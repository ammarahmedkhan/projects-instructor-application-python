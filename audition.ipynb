{
 "cells": [
  {
   "cell_type": "markdown",
   "metadata": {},
   "source": [
    "Welcome to your DataCamp project audition! This notebook must be filled out and vetted before a contract can be signed and you can start creating your project.\n",
    "\n",
    "The first step is forking the repository in which this notebook lives. After that, there are two parts to be completed in this notebook:\n",
    "\n",
    "- **Project information**:  European League transfers through the years\n",
    "\n",
    "- **Project introduction**: Looking at the various transfer numbers between clubs participating in major european leagues\n"
   ]
  },
  {
   "cell_type": "markdown",
   "metadata": {},
   "source": [
    "# Project information"
   ]
  },
  {
   "cell_type": "markdown",
   "metadata": {},
   "source": [
    "**Project title**: European League transfers through the years\n",
    "\n",
    "**Name:** Ammar Ahmed Khan\n",
    "\n",
    "**Email address associated with your DataCamp account:** mrahmed_44@hotmail.com\n",
    "\n",
    "**GitHub username:** ammarahmedkhan\n",
    "\n",
    "**Project description**: Player transfers occuring throughout the European football league \n",
    "\n",
    "<img src=\"img/european_leagues.jpg\"></img>\n",
    "\n",
    "\n",
    "Goooaaaallllllll!!!!! no matter what language you speak, this word has its universality.\n",
    "Football is an exciting team sport that has been around for a long time on both the \n",
    "international and the national leagues.In this project, we are looking at some of the most \n",
    "famous and competitive national leagues like the premier league, bundesliga, serie A etc. and \n",
    "the rich data they have to offer like club transfers and their associated fees.\n",
    "\n",
    "As you step through the project, you'll utilize your data importing, filtering , aggregating\n",
    "and visualizing skills. For a refresher, you can always check out the following datacamp courses.\n",
    "<li>\n",
    "<a href=\"https://www.datacamp.com/courses/importing-data-in-python-part-1\">Importing Data in Python (Part 1)</a>\n",
    "</li>\n",
    "<li>\n",
    "<a href=\"https://www.datacamp.com/courses/pandas-foundations\">Pandas foundations </a>\n",
    "</li>\n",
    "<li>\n",
    "<a href=\"https://www.datacamp.com/courses/manipulating-dataframes-with-pandas\">Manipulating DataFrames with pandas</a>\n",
    "</li>\n",
    "<br></br>\n",
    "The information rich data has been taken from the link <a href=\"https://www.kaggle.com/vardan95ghazaryan/top-250-football-transfers-from-2000-to-2018\">European club transfers</a> .\n",
    "<br></br>\n",
    "After you are done with this excercise, you'll have carried out analysis that key strategists find useful.\n",
    "If you'd like to get your game on and explore the wonderful world of league football, you can \n",
    "always search out these leagues online and find out more about them. There's all sorts of \n",
    "statistics that can be applied to these leagues just as they are applied for major league \n",
    "baseball and NBA."
   ]
  },
  {
   "cell_type": "markdown",
   "metadata": {},
   "source": [
    "# Project introduction\n",
    "\n",
    "***Note: nothing needs to be filled out in this cell. It is simply setting up the template cells below.***\n"
   ]
  },
  {
   "cell_type": "markdown",
   "metadata": {},
   "source": [
    "## 1. The position, The Pay and The Pressure"
   ]
  },
  {
   "cell_type": "markdown",
   "metadata": {},
   "source": [
    "There are three very important columns in this dataset in addition to the transfer from and to teams; the price of the transfer and the position the player was assigned in the team. In addition to being a team sport, football also requires that each player carries out their respective responsibility .\n",
    "\n",
    "<img src=\"img/positions.jpeg\">\n",
    "Image taken from the bundesliga website, visit https://www.bundesliga.com/ for more</img>\n",
    "\n",
    "A defender wouldnt try to be the hero and go for the goal, thats what the attacker is for. Similarly, the attacker will seldom be seen  near the home team goal post because then who would lead the team to victory if they fall short in the way of offense. After all, a good offense is sometimes a good defence.\n",
    "\n",
    "We'll start by loading the data in to our dataframe.\n",
    "\n"
   ]
  },
  {
   "cell_type": "code",
   "execution_count": 1,
   "metadata": {
    "collapsed": true
   },
   "outputs": [],
   "source": [
    "import pandas as pd\n",
    "df=pd.read_csv('datasets\top250-00-19.csv')\n",
    "df.head(2)"
   ]
  },
  {
   "cell_type": "markdown",
   "metadata": {},
   "source": [
    "## 2. The most expensive positions around"
   ]
  },
  {
   "cell_type": "markdown",
   "metadata": {},
   "source": [
    "As explained above, the team formation is key to winning the game just like in American football and basketball.\n",
    "\n",
    "Here we'll take a look at what positions bring in the most money for the players by doing a groupby."
   ]
  },
  {
   "cell_type": "code",
   "execution_count": 2,
   "metadata": {
    "collapsed": true
   },
   "outputs": [],
   "source": [
    "df_groupby_position=df.groupby('Position')['Transfer_fee'].sum().sort_values(ascending=False)\n",
    "df_groupby_position.head()\n"
   ]
  },
  {
   "cell_type": "markdown",
   "metadata": {},
   "source": [
    "## 3. The Loyal and The Frequent Flyers"
   ]
  },
  {
   "cell_type": "markdown",
   "metadata": {},
   "source": [
    "Who has the most transfers through out the period observed? We can check that by simply doing a groupby in the players column and then finding out how many times, their name appears in the dataset."
   ]
  },
  {
   "cell_type": "code",
   "execution_count": 3,
   "metadata": {
    "collapsed": true
   },
   "outputs": [],
   "source": [
    "df_groupby_player=df.groupby('Name')['Name'].count().sort_values(ascending=False)\n",
    "df_groupby_player.head()"
   ]
  },
  {
   "cell_type": "markdown",
   "metadata": {},
   "source": [
    "*Stop here! Only the three first tasks. :)*"
   ]
  }
 ],
 "metadata": {
  "kernelspec": {
   "display_name": "Python 3",
   "language": "python",
   "name": "python3"
  },
  "language_info": {
   "codemirror_mode": {
    "name": "ipython",
    "version": 3
   },
   "file_extension": ".py",
   "mimetype": "text/x-python",
   "name": "python",
   "nbconvert_exporter": "python",
   "pygments_lexer": "ipython3",
   "version": "3.6.6"
  }
 },
 "nbformat": 4,
 "nbformat_minor": 2
}
